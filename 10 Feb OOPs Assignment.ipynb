{
 "cells": [
  {
   "cell_type": "markdown",
   "id": "7352b474-ecb3-4144-aa62-20f2b61a7ab9",
   "metadata": {
    "tags": []
   },
   "source": [
    "Q1. Which function is used to open a file? What are the different modes of opening a file? Explain each mode of file opening."
   ]
  },
  {
   "cell_type": "markdown",
   "id": "2608594a-89c1-4c0b-94d4-7257a0a5aa44",
   "metadata": {},
   "source": [
    "In Python, you can use the open() function to open a file. The open() function takes two arguments: the filename and the mode in which you want to open the file."
   ]
  },
  {
   "cell_type": "markdown",
   "id": "797f0d38-2943-4688-9b01-3ff8ba515800",
   "metadata": {},
   "source": [
    "Here are the different modes for opening a file in Python, along with explanations for each mode:"
   ]
  },
  {
   "cell_type": "markdown",
   "id": "a745e6af-713f-4a73-b042-3632bb08a97a",
   "metadata": {},
   "source": [
    "1. 'r' (Read Mode): This is the default mode when you open a file. It allows you to read the contents of the file but does not allow you to write or modify it. If the file does not exist, it will raise a FileNotFoundError.\n",
    "\n",
    "Example:"
   ]
  },
  {
   "cell_type": "code",
   "execution_count": 6,
   "id": "ee70520a-7253-43a1-97c9-6764aa05970d",
   "metadata": {},
   "outputs": [],
   "source": [
    "f = open(\"example.txt\", \"r\")"
   ]
  },
  {
   "cell_type": "markdown",
   "id": "a7f02c42-cd38-4bae-b1c4-80384dc1c135",
   "metadata": {},
   "source": [
    "2. 'w' (Write Mode): This mode is used to create a new file or truncate an existing file. If the file exists, it will be cleared before writing. If the file does not exist, a new file will be created. Be cautious when using this mode, as it will overwrite the file's contents.\n",
    "\n",
    "Example:"
   ]
  },
  {
   "cell_type": "code",
   "execution_count": 5,
   "id": "1283d4b2-a336-45fc-8a43-d7366e1fbc84",
   "metadata": {},
   "outputs": [],
   "source": [
    "file = open(\"example.txt\", \"w\")"
   ]
  },
  {
   "cell_type": "markdown",
   "id": "4beac64e-3dd3-47f7-a076-8713b92476df",
   "metadata": {},
   "source": [
    "3. 'a' (Append Mode): This mode is used to open a file for writing but does not truncate the file if it already exists. Instead, it appends new data to the end of the file. If the file does not exist, a new file will be created.\n",
    "\n",
    "Example:"
   ]
  },
  {
   "cell_type": "code",
   "execution_count": 7,
   "id": "0abf9861-ad4b-40ce-8a6a-fefdbfa73333",
   "metadata": {},
   "outputs": [],
   "source": [
    "file = open(\"example.txt\", \"a\")"
   ]
  },
  {
   "cell_type": "markdown",
   "id": "0aaddbe0-dd76-4bbd-8b3e-7afdfedc6714",
   "metadata": {},
   "source": [
    "4. 'b' (Binary Mode): This mode is used in conjunction with other modes to open a file in binary mode. It is often used for reading or writing binary data, such as images or non-text files. For example, you can use 'rb' for reading a binary file and 'wb' for writing a binary file.\n",
    "\n",
    "Example (reading a binary file):"
   ]
  },
  {
   "cell_type": "code",
   "execution_count": null,
   "id": "b5eb92c3-81f8-496c-855f-21f601096ad0",
   "metadata": {},
   "outputs": [],
   "source": [
    "file = open(\"image.png\", \"rb\")"
   ]
  },
  {
   "cell_type": "markdown",
   "id": "d044bff6-7b2b-4efe-af65-3d8cf4c053b6",
   "metadata": {},
   "source": [
    "5. 'x' (Exclusive Creation Mode): This mode is used for exclusive creation, meaning it will fail if the file already exists. It is commonly used when you want to ensure that a file is created only if it does not exist.\n",
    "\n",
    "Example:"
   ]
  },
  {
   "cell_type": "code",
   "execution_count": null,
   "id": "60939a46-0ab3-4893-b655-c07fe1dc51bd",
   "metadata": {},
   "outputs": [],
   "source": [
    "file = open(\"example.txt\", \"x\")"
   ]
  },
  {
   "cell_type": "markdown",
   "id": "da047e88-7325-499a-855d-8b79b0e6c5eb",
   "metadata": {},
   "source": [
    "Q2. Why close() function is used? Why is it important to close a file?"
   ]
  },
  {
   "cell_type": "markdown",
   "id": "59f16e1f-f8b8-4359-8ba3-ac30e5d7f79e",
   "metadata": {},
   "source": [
    "\n",
    "The close() function in Python is used to close an open file. Closing a file is important for several reasons:\n",
    "\n",
    "1. Resource Management: When you open a file, the operating system allocates system resources (such as file handles or memory) to maintain the connection to that file. If you don't close the file properly, these resources may not be released immediately, leading to resource leakage. Over time, this can lead to a depletion of available resources, causing your program to behave unpredictably or run out of resources.\n",
    "\n",
    "2. Data Integrity: When you write data to a file, it may be buffered in memory before it's physically written to the disk. If you don't close the file, there's a risk that some data may remain in the buffer and not be written to the file. Closing the file ensures that any buffered data is flushed (written) to the file, preserving data integrity."
   ]
  },
  {
   "cell_type": "code",
   "execution_count": 17,
   "id": "2032754a-7850-4ec6-991b-6e7c0ca25e70",
   "metadata": {},
   "outputs": [],
   "source": [
    "file = open(\"example.txt\", \"w\")  # Open the file in write mode\n",
    "file.write(\"Hello, World!\\n\")     # Write some data to the file\n",
    "file.write(\"I am Ravi Kumar Pal\")\n",
    "file.close()                    # Close the file"
   ]
  },
  {
   "cell_type": "markdown",
   "id": "a684096e-1f9b-47ef-8e08-d5655a92d041",
   "metadata": {},
   "source": [
    "Q3. Write a python program to create a text file. Write ‘I want to become a Data Scientist’ in that file. Then\n",
    "close the file. Open this file and read the content of the file."
   ]
  },
  {
   "cell_type": "code",
   "execution_count": 18,
   "id": "e01de188-c133-4b02-a6eb-f41e78ea251a",
   "metadata": {},
   "outputs": [
    {
     "name": "stdout",
     "output_type": "stream",
     "text": [
      "Content of the file:\n",
      "I want to become a Data Scientist\n"
     ]
    }
   ],
   "source": [
    "# Create and write to the text file\n",
    "with open(\"data_scientist.txt\", \"w\") as file:\n",
    "    file.write(\"I want to become a Data Scientist\")\n",
    "\n",
    "# Open and read the content of the file\n",
    "with open(\"data_scientist.txt\", \"r\") as file:\n",
    "    content = file.read()\n",
    "\n",
    "# Print the content of the file\n",
    "print(\"Content of the file:\")\n",
    "print(content)"
   ]
  },
  {
   "cell_type": "markdown",
   "id": "6c20b9ce-2798-44ff-bcb0-450b4504ba12",
   "metadata": {},
   "source": [
    "Q4. Explain the following with python code: read(), readline() and readlines()."
   ]
  },
  {
   "cell_type": "markdown",
   "id": "283c9c2f-c2f9-4747-873a-993454a42d75",
   "metadata": {},
   "source": [
    "In Python, you can use the read(), readline(), and readlines() methods to read content from a file. "
   ]
  },
  {
   "cell_type": "markdown",
   "id": "e5b88b81-d7e1-484f-a8b3-d72283cc1adf",
   "metadata": {},
   "source": [
    "1. read() Method:\n",
    "\n",
    "The read() method reads the entire content of the file as a single string.\n",
    "When called without an argument, it reads the entire file.\n",
    "You can specify the number of bytes to read as an argument to read(n), where n is the number of bytes to read.\n",
    "If you don't specify n, it reads the entire file by default."
   ]
  },
  {
   "cell_type": "code",
   "execution_count": 19,
   "id": "116661b6-42af-4cb9-8cb9-d820fb9cf7cf",
   "metadata": {},
   "outputs": [
    {
     "name": "stdout",
     "output_type": "stream",
     "text": [
      "Content of the file:\n",
      "Hello, World!\n",
      "I am Ravi Kumar Pal\n"
     ]
    }
   ],
   "source": [
    "# Open a file for reading\n",
    "with open(\"example.txt\", \"r\") as file:\n",
    "    content = file.read()  # Read the entire file\n",
    "    print(\"Content of the file:\")\n",
    "    print(content)"
   ]
  },
  {
   "cell_type": "markdown",
   "id": "53c8360c-4686-44c1-b80b-7c809598668e",
   "metadata": {},
   "source": [
    "2. readline() Method:\n",
    "\n",
    "The readline() method reads a single line from the file.\n",
    "It returns a string containing the characters from the current file position up to and including the first newline character (\\n) encountered.\n",
    "Subsequent calls to readline() will read the next line, and so on."
   ]
  },
  {
   "cell_type": "code",
   "execution_count": 20,
   "id": "bf817288-d54f-4b47-8385-03a12302a3f6",
   "metadata": {},
   "outputs": [
    {
     "name": "stdout",
     "output_type": "stream",
     "text": [
      "First line: Hello, World!\n",
      "\n",
      "Second Line: I am Ravi Kumar Pal\n"
     ]
    }
   ],
   "source": [
    "with open(\"example.txt\",\"r\") as file:\n",
    "    line1 = file.readline()\n",
    "    line2=file.readline()\n",
    "    print(\"First line:\",line1)\n",
    "    print(\"Second Line:\",line2)"
   ]
  },
  {
   "cell_type": "markdown",
   "id": "ecfd3a40-1e0d-4985-9d89-7cb618608825",
   "metadata": {},
   "source": [
    "3. readlines() Method:\n",
    "\n",
    "The readlines() method reads all lines from the file and returns them as a list of strings.\n",
    "Each string in the list corresponds to a line in the file.\n",
    "You can iterate through the list to process each line."
   ]
  },
  {
   "cell_type": "code",
   "execution_count": 22,
   "id": "773b54a6-813f-411f-9f82-32c6a197e60e",
   "metadata": {},
   "outputs": [
    {
     "name": "stdout",
     "output_type": "stream",
     "text": [
      "All lines in the file:\n",
      "Hello, World!\n",
      "\n",
      "I am Ravi Kumar Pal\n"
     ]
    }
   ],
   "source": [
    "with open (\"example.txt\",\"r\") as file:\n",
    "    lines=file.readlines()\n",
    "    print(\"All lines in the file:\")\n",
    "    for line in lines:\n",
    "        print(line)"
   ]
  },
  {
   "cell_type": "markdown",
   "id": "90555588-9721-4f70-9478-2229903e2877",
   "metadata": {},
   "source": [
    "Q5. Explain why with statement is used with open(). What is the advantage of using with statement and\n",
    "open() together?"
   ]
  },
  {
   "cell_type": "markdown",
   "id": "b98b119a-9ecf-49e2-b19b-b7a164f45eb7",
   "metadata": {},
   "source": [
    "The with statement in Python is used in conjunction with the open() function to simplify file I/O operations and ensure that files are properly closed when they are no longer needed. The primary advantage of using the with statement with open() is that it provides automatic resource management and exception handling."
   ]
  },
  {
   "cell_type": "markdown",
   "id": "12f7a2d6-bcf5-433a-abc0-d5ded03b858c",
   "metadata": {},
   "source": [
    "Here's why the with statement is used with open() and its advantages:\n",
    "\n",
    "1. Automatic Resource Management: When you use the with statement, a context manager is created. The context manager ensures that the file is properly opened when entering the with block and automatically closed when exiting the block. This automatic closing of the file is crucial for releasing system resources, such as file handles, and preventing resource leaks. Without the with statement, you would need to explicitly call the close() method on the file object to ensure proper resource management.\n",
    "\n",
    "2. Exception Handling: The with statement also provides built-in exception handling. If an exception is raised within the with block, the context manager ensures that the file is still closed properly before propagating the exception. This helps prevent situations where a file remains open even if an error occurs during file operations. Without the with statement, you would need to write additional error-handling code to ensure that the file is closed in all circumstances.\n",
    "\n",
    "3. Clean and Readable Code: Using the with statement results in cleaner and more readable code. It clearly indicates the scope in which the file is being used, making the code easier to understand. It eliminates the need for explicit open() and close() calls, reducing the chances of errors related to file handling."
   ]
  },
  {
   "cell_type": "code",
   "execution_count": 23,
   "id": "268be106-c136-4e72-b78c-5f8ac3dc3342",
   "metadata": {},
   "outputs": [],
   "source": [
    "# Using 'with' statement for file I/O\n",
    "with open(\"example.txt\", \"r\") as file:\n",
    "    content = file.read()\n",
    "    # Perform operations with the file content\n",
    "\n",
    "# File is automatically closed when exiting the 'with' block"
   ]
  },
  {
   "cell_type": "markdown",
   "id": "4261858c-6b28-4147-ae44-86dd11a6aecc",
   "metadata": {},
   "source": [
    "Q6. Explain the write() and writelines() functions. Give a suitable example."
   ]
  },
  {
   "cell_type": "markdown",
   "id": "970ca28b-a441-4e91-9ef9-8026e7cb3c1d",
   "metadata": {},
   "source": [
    "In Python, the write() and writelines() functions are used for writing data to a file. "
   ]
  },
  {
   "cell_type": "markdown",
   "id": "13d734ed-09a4-4529-a0ae-f451a7627062",
   "metadata": {},
   "source": [
    "1. write() Function:\n",
    "\n",
    "The write() function is used to write a string or a sequence of characters to a file.\n",
    "It takes a single argument, which is the data to be written to the file.\n",
    "If the file is opened in text mode (the default), you can only write strings to it.\n",
    "If the file is opened in binary mode, you can write bytes-like objects."
   ]
  },
  {
   "cell_type": "code",
   "execution_count": 24,
   "id": "6e65b500-ffe4-4697-8d19-0e0dc2511ab2",
   "metadata": {},
   "outputs": [],
   "source": [
    "# Open a file for writing\n",
    "with open(\"output.txt\", \"w\") as file:\n",
    "    file.write(\"Hello, World!\")  # Write a string to the file"
   ]
  },
  {
   "cell_type": "markdown",
   "id": "30e7f788-b66f-4bf3-a28f-6987c24922b6",
   "metadata": {},
   "source": [
    "2. writelines() Function:\n",
    "\n",
    "The writelines() function is used to write a list of strings to a file.\n",
    "It takes a single argument, which is a sequence (list, tuple, or any iterable) of strings to be written.\n",
    "Each string in the sequence is written as a separate line in the file."
   ]
  },
  {
   "cell_type": "code",
   "execution_count": 25,
   "id": "fa7b15a5-4009-4bf2-bdb7-343760052b81",
   "metadata": {},
   "outputs": [],
   "source": [
    "# Open a file for writing\n",
    "with open(\"output.txt\", \"w\") as file:\n",
    "    lines = [\"Line 1\\n\", \"Line 2\\n\", \"Line 3\\n\"]\n",
    "    file.writelines(lines)  # Write a list of strings as separate lines"
   ]
  },
  {
   "cell_type": "code",
   "execution_count": null,
   "id": "a67d7edc-6b29-4726-9c8a-a833974ca50e",
   "metadata": {},
   "outputs": [],
   "source": []
  }
 ],
 "metadata": {
  "kernelspec": {
   "display_name": "Python 3 (ipykernel)",
   "language": "python",
   "name": "python3"
  },
  "language_info": {
   "codemirror_mode": {
    "name": "ipython",
    "version": 3
   },
   "file_extension": ".py",
   "mimetype": "text/x-python",
   "name": "python",
   "nbconvert_exporter": "python",
   "pygments_lexer": "ipython3",
   "version": "3.10.8"
  }
 },
 "nbformat": 4,
 "nbformat_minor": 5
}
